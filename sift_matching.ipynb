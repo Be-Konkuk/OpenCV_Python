{
 "cells": [
  {
   "cell_type": "code",
   "execution_count": 21,
   "id": "9d474555",
   "metadata": {},
   "outputs": [
    {
     "name": "stdout",
     "output_type": "stream",
     "text": [
      "[('Images/test/16_10.jpeg', 1235), ('Images/test/16_7.jpeg', 187), ('Images/test/12_2.jpeg', 180), ('Images/test/16_5.jpeg', 145), ('Images/test/21_4.jpeg', 135), ('Images/test/12_1.jpeg', 130), ('Images/test/17_1.jpeg', 129), ('Images/test/11_5.jpeg', 125), ('Images/test/7_4.jpeg', 111), ('Images/test/11_2.jpeg', 105), ('Images/test/21_1.jpeg', 102), ('Images/test/19_1.jpeg', 97), ('Images/test/8_11.jpeg', 95), ('Images/test/17_2.jpeg', 86), ('Images/test/8_8.jpeg', 85), ('Images/test/22_2.jpeg', 84)]\n"
     ]
    }
   ],
   "source": [
    "# import numpy as np\n",
    "# import cv2\n",
    "# from matplotlib import pyplot as plt\n",
    "# import glob\n",
    "# import os\n",
    "\n",
    "\n",
    "# img_list = glob.glob('Images/test/*.jpeg')\n",
    "\n",
    "# result = {}\n",
    "\n",
    "# for i in range(len(img_list)):\n",
    "#     img1 = cv2.imread('Images/query_16_1.png')          # queryImage\n",
    "#     img2 = cv2.imread(f'{img_list[i]}',0) # trainImage\n",
    "\n",
    "#     sift = cv2.xfeatures2d.SIFT_create()\n",
    "#     kp1, des1 = sift.detectAndCompute(img1,None)\n",
    "#     kp2, des2 = sift.detectAndCompute(img2,None)\n",
    "#     bf = cv2.BFMatcher()\n",
    "\n",
    "#     matches = bf.knnMatch(des1,des2, k=2)\n",
    "#     good = []\n",
    "\n",
    "#     for m,n in matches:\n",
    "#         if m.distance < 0.8*n.distance:\n",
    "#             good.append([m])\n",
    "#     img3 = cv2.drawMatchesKnn(img1,kp1,img2,kp2,good,None,flags=2)\n",
    "#     result[img_list[i]]=len(good)\n",
    "#     #plt.imshow(img3),plt.show()\n",
    "#     #cv2.imshow(\"comapre\", img3)\n",
    "#     #cv2.waitKey(1)\n",
    "    \n",
    "# result = sorted(result.items(), key=(lambda x:x[1]), reverse=True)\n",
    "# print(result)\n",
    "\n"
   ]
  },
  {
   "cell_type": "code",
   "execution_count": 66,
   "id": "8568f6ac",
   "metadata": {},
   "outputs": [],
   "source": [
    "def get_sift_match(query, img):\n",
    "    \n",
    "    result = {}\n",
    "    \n",
    "    for q in query:\n",
    "        img1 = cv2.imread(img)\n",
    "        img2 = cv2.imread(q)\n",
    "        \n",
    "        sift = cv2.xfeatures2d.SIFT_create()\n",
    "        kp1, des1 = sift.detectAndCompute(img1,None)\n",
    "        kp2, des2 = sift.detectAndCompute(img2,None)\n",
    "        bf = cv2.BFMatcher()\n",
    "        \n",
    "        matches = bf.knnMatch(des1,des2, k=2)\n",
    "        good = []\n",
    "\n",
    "        for m,n in matches:\n",
    "            if m.distance < 0.8*n.distance:\n",
    "                good.append([m])\n",
    "        img3 = cv2.drawMatchesKnn(img1,kp1,img2,kp2,good,None,flags=2)\n",
    "        result[q]=len(good)\n",
    "        \n",
    "    result = sorted(result.items(), key=(lambda x:x[1]), reverse=True)\n",
    "    print(result)\n",
    "    return str(next(iter(result))).split('.')[0].split('_')[1]\n",
    "    "
   ]
  },
  {
   "cell_type": "code",
   "execution_count": 67,
   "id": "e69039f9",
   "metadata": {},
   "outputs": [
    {
     "name": "stdout",
     "output_type": "stream",
     "text": [
      "[('Images/query/query_16_2.png', 103), ('Images/query/query_17.png', 80), ('Images/query/query_21.png', 74), ('Images/query/query_8.png', 69), ('Images/query/query_22.png', 66), ('Images/query/query_16.png', 61), ('Images/query/query_16_1.png', 53)]\n"
     ]
    },
    {
     "data": {
      "text/plain": [
       "'16'"
      ]
     },
     "execution_count": 67,
     "metadata": {},
     "output_type": "execute_result"
    }
   ],
   "source": [
    "qs = glob.glob('Images/query/*.png')\n",
    "test_img = 'Images/test/16_15.jpeg'\n",
    "\n",
    "get_sift_match(qs, test_img)\n",
    "\n"
   ]
  },
  {
   "cell_type": "code",
   "execution_count": 68,
   "id": "1013bbdb",
   "metadata": {},
   "outputs": [
    {
     "name": "stdout",
     "output_type": "stream",
     "text": [
      "[('Images/query/query_16_2.png', 114), ('Images/query/query_17.png', 83), ('Images/query/query_21.png', 80), ('Images/query/query_8.png', 76), ('Images/query/query_16.png', 65), ('Images/query/query_22.png', 65), ('Images/query/query_16_1.png', 48)]\n"
     ]
    },
    {
     "data": {
      "text/plain": [
       "'16'"
      ]
     },
     "execution_count": 68,
     "metadata": {},
     "output_type": "execute_result"
    }
   ],
   "source": [
    "test_img = 'Images/test/16_16.jpeg'\n",
    "\n",
    "get_sift_match(qs, test_img)\n",
    "\n"
   ]
  },
  {
   "cell_type": "code",
   "execution_count": 69,
   "id": "2d353da8",
   "metadata": {},
   "outputs": [
    {
     "name": "stdout",
     "output_type": "stream",
     "text": [
      "[('Images/query/query_16_2.png', 1302), ('Images/query/query_21.png', 249), ('Images/query/query_17.png', 227), ('Images/query/query_16_1.png', 220), ('Images/query/query_8.png', 200), ('Images/query/query_22.png', 191), ('Images/query/query_16.png', 185)]\n"
     ]
    },
    {
     "data": {
      "text/plain": [
       "'16'"
      ]
     },
     "execution_count": 69,
     "metadata": {},
     "output_type": "execute_result"
    }
   ],
   "source": [
    "test_img = 'Images/test/16_17.jpeg'\n",
    "\n",
    "get_sift_match(qs, test_img)\n",
    "\n"
   ]
  },
  {
   "cell_type": "code",
   "execution_count": 70,
   "id": "25a32553",
   "metadata": {},
   "outputs": [
    {
     "name": "stdout",
     "output_type": "stream",
     "text": [
      "[('Images/query/query_8.png', 2163), ('Images/query/query_21.png', 153), ('Images/query/query_16_2.png', 111), ('Images/query/query_16.png', 106), ('Images/query/query_22.png', 105), ('Images/query/query_16_1.png', 85), ('Images/query/query_17.png', 72)]\n"
     ]
    },
    {
     "data": {
      "text/plain": [
       "'8'"
      ]
     },
     "execution_count": 70,
     "metadata": {},
     "output_type": "execute_result"
    }
   ],
   "source": [
    "test_img = 'Images/test/8_11.jpeg'\n",
    "\n",
    "get_sift_match(qs, test_img)\n",
    "\n"
   ]
  },
  {
   "cell_type": "code",
   "execution_count": 71,
   "id": "6517fb53",
   "metadata": {},
   "outputs": [
    {
     "name": "stdout",
     "output_type": "stream",
     "text": [
      "[('Images/query/query_16_2.png', 209), ('Images/query/query_22.png', 208), ('Images/query/query_21.png', 206), ('Images/query/query_16_1.png', 199), ('Images/query/query_17.png', 164), ('Images/query/query_8.png', 141), ('Images/query/query_16.png', 125)]\n"
     ]
    },
    {
     "data": {
      "text/plain": [
       "'16'"
      ]
     },
     "execution_count": 71,
     "metadata": {},
     "output_type": "execute_result"
    }
   ],
   "source": [
    "test_img = 'Images/test/17_1.jpeg'\n",
    "\n",
    "get_sift_match(qs, test_img)\n",
    "\n"
   ]
  },
  {
   "cell_type": "code",
   "execution_count": null,
   "id": "7b2cbb18",
   "metadata": {},
   "outputs": [],
   "source": []
  }
 ],
 "metadata": {
  "kernelspec": {
   "display_name": "Python 3",
   "language": "python",
   "name": "python3"
  },
  "language_info": {
   "codemirror_mode": {
    "name": "ipython",
    "version": 3
   },
   "file_extension": ".py",
   "mimetype": "text/x-python",
   "name": "python",
   "nbconvert_exporter": "python",
   "pygments_lexer": "ipython3",
   "version": "3.8.8"
  }
 },
 "nbformat": 4,
 "nbformat_minor": 5
}
